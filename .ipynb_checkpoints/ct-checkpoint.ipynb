{
 "cells": [
  {
   "cell_type": "markdown",
   "metadata": {},
   "source": [
    "# Imports"
   ]
  },
  {
   "cell_type": "code",
   "execution_count": 1,
   "metadata": {},
   "outputs": [],
   "source": [
    "import numpy as np\n",
    "from skimage import io"
   ]
  },
  {
   "cell_type": "markdown",
   "metadata": {},
   "source": [
    "# Parameters"
   ]
  },
  {
   "cell_type": "code",
   "execution_count": 20,
   "metadata": {},
   "outputs": [],
   "source": [
    "# angle diff between iterations\n",
    "EMITTER_STEP = 1\n",
    "# n\n",
    "DETECTOR_COUNT = 90\n",
    "# I (deg)\n",
    "DETECTOR_SPAN = 45\n",
    "\n",
    "# input and output file\n",
    "INPUT_PATH = \"ct/Kwadraty2.jpg\"\n",
    "OUTPUT_PATH = \"ct_output.jpg\""
   ]
  },
  {
   "cell_type": "markdown",
   "metadata": {},
   "source": [
    "# Functions"
   ]
  },
  {
   "cell_type": "code",
   "execution_count": 3,
   "metadata": {},
   "outputs": [],
   "source": [
    "def normalize_img(img):\n",
    "    \"\"\"values in range 0-1\"\"\"\n",
    "    min_v = np.amin(img)\n",
    "    max_v = np.amax(img)\n",
    "    if min_v != max_v:\n",
    "        return (img[:, :] - min_v) / (max_v - min_v)\n",
    "    return img"
   ]
  },
  {
   "cell_type": "code",
   "execution_count": 4,
   "metadata": {},
   "outputs": [],
   "source": [
    "def resize_to_square(img):\n",
    "    size = np.max(img.shape)\n",
    "    size = int(ceil(np.max(img.shape) * np.sqrt(2)))\n",
    "    size += size % 2\n",
    "    square_img = np.zeros((size, size))\n",
    "    square_img[:img.shape[0], :img.shape[1]] = img\n",
    "    return square_img"
   ]
  },
  {
   "cell_type": "code",
   "execution_count": 5,
   "metadata": {},
   "outputs": [],
   "source": [
    "def load_img(path):\n",
    "    img = io.imread(path, as_gray=True)\n",
    "    img = normalize_img(img)\n",
    "    img = resize_to_square(img)\n",
    "    return img"
   ]
  },
  {
   "cell_type": "code",
   "execution_count": 6,
   "metadata": {},
   "outputs": [],
   "source": [
    "def show_img(img):\n",
    "    io.imshow(img)"
   ]
  },
  {
   "cell_type": "code",
   "execution_count": 7,
   "metadata": {},
   "outputs": [],
   "source": [
    "def bresenham(x0, y0, x1, y1):\n",
    "    \"\"\"generator yielding tuples of xs and ys of pixels traversed on line from (x0, y0) to (x1, y1) (inclusive)\"\"\"\n",
    "    def delta_and_sign(v0, v1):\n",
    "        return (v1 - v0, 1) if v0 < v1 else (v0 - v1, -1)\n",
    "    \n",
    "    dx, x_sign = delta_and_sign(x0, x1)\n",
    "    dy, y_sign = delta_and_sign(y0, y1)\n",
    "    \n",
    "    x, y = x0, y0\n",
    "    yield x, y\n",
    "    if dx > dy:\n",
    "        ai = 2 * (dy - dx)\n",
    "        bi = dy * 2\n",
    "        d = bi - dx\n",
    "        while x != x1:\n",
    "            if d >= 0:\n",
    "                y += y_sign\n",
    "                d += ai\n",
    "            else:\n",
    "                d += bi;\n",
    "            x += x_sign\n",
    "            yield x, y\n",
    "    else:\n",
    "        ai = 2 * (dx - dy)\n",
    "        bi = dx * 2\n",
    "        d = bi - dy;\n",
    "        while y != y1:\n",
    "            if d >= 0:\n",
    "                x += x_sign\n",
    "                d += ai\n",
    "            else:\n",
    "                d += bi\n",
    "            y += y_sign\n",
    "            yield x, y"
   ]
  },
  {
   "cell_type": "code",
   "execution_count": 8,
   "metadata": {},
   "outputs": [],
   "source": [
    "def bresenham_list(x0, y0, x1, y1):\n",
    "    \"\"\"list of points from bresenham generator\"\"\"\n",
    "    return [*bresenham(x0, x1, y0, y1)]"
   ]
  },
  {
   "cell_type": "code",
   "execution_count": 9,
   "metadata": {},
   "outputs": [],
   "source": [
    "def points_to_indices(points):\n",
    "    \"\"\"points to indices for np.array\"\"\"\n",
    "    return tuple([*zip(*points)][::-1])"
   ]
  },
  {
   "cell_type": "code",
   "execution_count": 10,
   "metadata": {},
   "outputs": [],
   "source": [
    "def valid_points(img, points):\n",
    "    \"\"\"only points within img\"\"\"\n",
    "    def within_img(img, x, y):\n",
    "        return 0 <= y < img.shape[0] and 0 <= x < img.shape[1]\n",
    "    \n",
    "    return [*filter(lambda point: within_img(img, *point), points)]"
   ]
  },
  {
   "cell_type": "code",
   "execution_count": 11,
   "metadata": {},
   "outputs": [],
   "source": [
    "def mean_on_line(img, x0, y0, x1, y1):\n",
    "    \"\"\"mean of pixels on line from (x0, y0) to (x1, y1) (inclusive), uses only valid points (within img)\"\"\"\n",
    "    return np.mean(img[points_to_indices(valid_points(img, bresenham_list(x0, y0, x1, y1)))])"
   ]
  },
  {
   "cell_type": "code",
   "execution_count": 12,
   "metadata": {},
   "outputs": [],
   "source": [
    "def calculate_center_and_radius(img):\n",
    "    \"\"\"assume img is already square\"\"\"\n",
    "    shape = np.array(img.shape[::-1])\n",
    "    cx, cy = map(int, shape // 2)\n",
    "    return cx, cy, int(np.ceil(shape[0] * np.sqrt(2) / 2.0))"
   ]
  },
  {
   "cell_type": "code",
   "execution_count": 13,
   "metadata": {},
   "outputs": [],
   "source": [
    "def rad_to_cart(cx, cy, r, angle):\n",
    "    \"\"\"radial to cartesian coordinates conversion, input angle in radians, output x and y truncated ints\"\"\"\n",
    "    x = r * np.cos(angle) + cx\n",
    "    y = r * np.sin(-angle) + cy\n",
    "    return int(x), int(y)"
   ]
  },
  {
   "cell_type": "code",
   "execution_count": 14,
   "metadata": {},
   "outputs": [],
   "source": [
    "def detectors(cx, cy, r, emitter_angle, detector_count, detector_span):\n",
    "    \"\"\"generate detectors based on emitter coordinates, angles in radians\"\"\"\n",
    "    detector_angle = emitter_angle + np.pi - detector_span / 2.0\n",
    "    if detector_angle < 0:\n",
    "        detector_angle += 2 * np.pi\n",
    "    elif detector_angle >= 2 * np.pi:\n",
    "        detector_angle -= 2 * np.pi\n",
    "        \n",
    "    angle_diff = detector_span / detector_count\n",
    "    for i in range(detector_count):\n",
    "        x, y = rad_to_cart(cx, cy, r, detector_angle)\n",
    "        detector_angle += angle_diff\n",
    "        yield x, y"
   ]
  },
  {
   "cell_type": "code",
   "execution_count": 15,
   "metadata": {},
   "outputs": [],
   "source": [
    "def emitter_measurements(img, cx, cy, r, emitter_angle, detector_count, detector_span):\n",
    "    emitter_pos = rad_to_cart(cx, cy, r, emitter_angle)\n",
    "    measurements = np.zeros(detector_count)\n",
    "    for i, detector_pos in enumerate(detectors(cx, cy, r, emitter_angle, detector_count, detector_span)):\n",
    "        measurements[i] = mean_on_line(img, *emitter_pos, *detector_pos)\n",
    "    return measurements"
   ]
  },
  {
   "cell_type": "code",
   "execution_count": 16,
   "metadata": {},
   "outputs": [],
   "source": [
    "def img_to_sinogram(img, iterations, emitter_step, cx, cy, r, detector_count, detector_span):\n",
    "    intial_emitter_angle = 0\n",
    "    emitter_angles = intial_emitter_angle + np.arange(iterations) * emitter_step\n",
    "    sinogram = np.empty((iterations, detector_count))\n",
    "    \n",
    "    for i, emitter_angle in enumerate(emitter_angles):\n",
    "        sinogram[i, :] = emitter_measurements(img, cx, cy, r, emitter_angle, detector_count, detector_span)\n",
    "    return sinogram"
   ]
  },
  {
   "cell_type": "code",
   "execution_count": 17,
   "metadata": {},
   "outputs": [],
   "source": [
    "def sinogram_to_img(sinogram):\n",
    "    pass"
   ]
  },
  {
   "cell_type": "markdown",
   "metadata": {},
   "source": [
    "# App"
   ]
  },
  {
   "cell_type": "code",
   "execution_count": 21,
   "metadata": {},
   "outputs": [
    {
     "data": {
      "image/png": "[encoded data removed]",
      "text/plain": [
       "<Figure size 432x288 with 1 Axes>"
      ]
     },
     "metadata": {
      "needs_background": "light"
     },
     "output_type": "display_data"
    }
   ],
   "source": [
    "# load img\n",
    "input_image = load_img(INPUT_PATH)\n",
    "show_img(input_image)\n",
    "\n",
    "# calculate params\n",
    "cx, cy, r = calculate_center_and_radius(input_image)\n",
    "emitter_step_rad = np.radians(EMITTER_STEP)\n",
    "iterations = int(np.pi / emitter_step_rad)\n",
    "detector_span_rad = np.radians(DETECTOR_SPAN)"
   ]
  },
  {
   "cell_type": "code",
   "execution_count": 22,
   "metadata": {},
   "outputs": [
    {
     "data": {
      "image/png": "[encoded data removed]",
      "text/plain": [
       "<Figure size 432x288 with 1 Axes>"
      ]
     },
     "metadata": {
      "needs_background": "light"
     },
     "output_type": "display_data"
    }
   ],
   "source": [
    "# get sinogram\n",
    "sinogram = img_to_sinogram(input_image, iterations, emitter_step_rad, cx, cy, r, DETECTOR_COUNT, detector_span_rad)\n",
    "show_img(sinogram)"
   ]
  }
 ],
 "metadata": {
  "kernelspec": {
   "display_name": "Python 3",
   "language": "python",
   "name": "python3"
  },
  "language_info": {
   "codemirror_mode": {
    "name": "ipython",
    "version": 3
   },
   "file_extension": ".py",
   "mimetype": "text/x-python",
   "name": "python",
   "nbconvert_exporter": "python",
   "pygments_lexer": "ipython3",
   "version": "3.9.1"
  }
 },
 "nbformat": 4,
 "nbformat_minor": 4
}
