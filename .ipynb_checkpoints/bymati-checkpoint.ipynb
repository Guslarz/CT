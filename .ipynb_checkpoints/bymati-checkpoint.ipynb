{
 "cells": [
  {
   "cell_type": "code",
   "execution_count": 63,
   "metadata": {},
   "outputs": [],
   "source": [
    "from PIL import Image, ImageOps\n",
    "from numpy import asarray\n",
    "from IPython.display import clear_output\n",
    "import numpy as np\n",
    "import math\n",
    "from skimage.transform import radon, rescale\n",
    "import matplotlib.pyplot as plt\n",
    "import matplotlib.animation\n",
    "# load the image\n",
    "image = Image.open('/home/arabica/Pictures/Kropka.jpg')"
   ]
  },
  {
   "cell_type": "code",
   "execution_count": 64,
   "metadata": {},
   "outputs": [
    {
     "data": {
      "text/plain": [
       "(400, 400)"
      ]
     },
     "execution_count": 64,
     "metadata": {},
     "output_type": "execute_result"
    }
   ],
   "source": [
    "im = ImageOps.grayscale(image)\n",
    "data = asarray(im)\n",
    "data.shape"
   ]
  },
  {
   "cell_type": "code",
   "execution_count": 65,
   "metadata": {},
   "outputs": [],
   "source": [
    "def my_radon(img, da, db):\n",
    "    rhomax = math.ceil((img.shape[0]**2+ img.shape[1]**2)**0.5)\n",
    "    output = np.zeros((rhomax+1, 180))\n",
    "    print(output.shape)\n",
    "    m = round(img.shape[0]/2)\n",
    "    n = round(img.shape[1]/2)\n",
    "    rc = round( rhomax/2)\n",
    "    mt = 180\n",
    "    for t in range (1, 45, da):\n",
    "        cosa= math.cos(math.radians(t))\n",
    "        sina= math.sin(math.radians(t))\n",
    "        a = -cosa/sina\n",
    "        #print(sina, cosa, a)\n",
    "        for r in range (1, rhomax, db):\n",
    "            rho = r - rc\n",
    "            b   =   rho/sina\n",
    "            ymax   =min(round(-1*a*m+b), n-1)\n",
    "            ymin   =max(round(a*m+b), -n )\n",
    "            for y in range (ymin, ymax):\n",
    "                x =(y-b)\n",
    "                xfloor = math.floor(x)\n",
    "                xup = x - xfloor \n",
    "                xlow = 1-xup\n",
    "                x = xfloor  \n",
    "                x = max( x ,-m)\n",
    "                x = min( x , m-2)\n",
    "                output[rhomax - r + 1, mt-t]+= xlow*img[y+n, x+m]  \n",
    "                output[rhomax - r + 1, mt-t]+= xup*img[y+n, x+m+ 1]  \n",
    "                \n",
    "    for t in range (46, 90, da):\n",
    "        cosa= math.cos(math.radians(t))\n",
    "        sina= math.sin(math.radians(t))\n",
    "        a = -cosa/sina\n",
    "        #print(sina, cosa, a)\n",
    "        for r in range (1, rhomax, db):\n",
    "            rho = r - rc\n",
    "            b   =   rho/sina\n",
    "            xmax   =min(round((-n-b) / a ), m-1)\n",
    "            xmin   =max(round((n-b ) / a ), -m) ;\n",
    "            for x in range (xmin, xmax):\n",
    "                y = a*x+b\n",
    "                yfloor = math.floor(y)\n",
    "                yup =   y-yfloor\n",
    "                ylow = 1 -yup\n",
    "                y = yfloor\n",
    "                y = max(y, -n )\n",
    "                y = min(y, n-2)\n",
    "                output[rhomax - r + 1, mt-t]+= ylow*img[y+n, x+m]  \n",
    "                output[rhomax - r + 1, mt-t]+= yup*img[y+n+1, x+m]\n",
    "                \n",
    "\n",
    "                \n",
    "    \n",
    "    arr = output          \n",
    "    arr = arr / np.abs(arr).max(axis=0)\n",
    "    arr = arr *255\n",
    "    return arr"
   ]
  },
  {
   "cell_type": "code",
   "execution_count": 66,
   "metadata": {},
   "outputs": [],
   "source": [
    "def bresenham(x1,y1,x2, y2):\n",
    "    \"\"\"Bresenham's Line Algorithm\n",
    "    Produces a list of tuples from start and end\n",
    " \n",
    "    >>> points1 = get_line((0, 0), (3, 4))\n",
    "    >>> points2 = get_line((3, 4), (0, 0))\n",
    "    >>> assert(set(points1) == set(points2))\n",
    "    >>> print points1\n",
    "    [(0, 0), (1, 1), (1, 2), (2, 3), (3, 4)]\n",
    "    >>> print points2\n",
    "    [(3, 4), (2, 3), (1, 2), (1, 1), (0, 0)]\n",
    "    \"\"\"\n",
    "    # Setup initial conditions\n",
    "    dx = x2 - x1\n",
    "    dy = y2 - y1\n",
    " \n",
    "    # Determine how steep the line is\n",
    "    is_steep = abs(dy) > abs(dx)\n",
    " \n",
    "    # Rotate line\n",
    "    if is_steep:\n",
    "        x1, y1 = y1, x1\n",
    "        x2, y2 = y2, x2\n",
    " \n",
    "    # Swap start and end points if necessary and store swap state\n",
    "    swapped = False\n",
    "    if x1 > x2:\n",
    "        x1, x2 = x2, x1\n",
    "        y1, y2 = y2, y1\n",
    "        swapped = True\n",
    " \n",
    "    # Recalculate differentials\n",
    "    dx = x2 - x1\n",
    "    dy = y2 - y1\n",
    " \n",
    "    # Calculate error\n",
    "    error = int(dx / 2.0)\n",
    "    ystep = 1 if y1 < y2 else -1\n",
    " \n",
    "    # Iterate over bounding box generating points between start and end\n",
    "    y = y1\n",
    "    points = []\n",
    "    for x in range(x1, x2 + 1):\n",
    "        coord = (y, x) if is_steep else (x, y)\n",
    "        points.append(coord)\n",
    "        error -= abs(dy)\n",
    "        if error < 0:\n",
    "            y += ystep\n",
    "            error += dx\n",
    " \n",
    "    # Reverse the list if the coordinates were swapped\n",
    "    if swapped:\n",
    "        points.reverse()\n",
    "    \n",
    "    return points\n",
    "    "
   ]
  },
  {
   "cell_type": "code",
   "execution_count": 67,
   "metadata": {},
   "outputs": [],
   "source": [
    "def new_radon(img, da, nn, l):\n",
    "        rhomax = math.ceil((img.shape[0]**2 + img.shape[1]**2)**0.5)\n",
    "        m = round(img.shape[0]/2)\n",
    "        n = round(img.shape[1]/2)\n",
    "        r = round( rhomax/2)\n",
    "        a = da\n",
    "        output = np.zeros((rhomax+1, 181))\n",
    "\n",
    "        while a < 360:\n",
    "            source = [round(r*math.cos(math.radians(a))), round(r*math.sin(math.radians(a)))]\n",
    "            dedectors = []\n",
    "            for i in range(0, n):\n",
    "                dedectors.append([round(r*math.cos(math.radians(a+(180)-(l/2)+ i* (l/(nn-1))))), \n",
    "                                            round(r*math.sin(math.radians(a+(180)-(l/2)+ i* (l/(nn-1)))))])\n",
    "            b = 0\n",
    "            gamma = -l/2\n",
    "            for i in dedectors:\n",
    "                li = bresenham(source[0], source[1], i[0], i[1])\n",
    "                suma = 0\n",
    "                for i in li:\n",
    "                    \n",
    "                    if i[0]+n < img.shape[0] and i[1] +m<  img.shape[1] and i[0]+n >= 0 and i[1] +m >= 0 :\n",
    "                        suma += img[i[0]+n][i[1]+m]\n",
    "                if source[0]-i[0] == 0:\n",
    "                    continue\n",
    "                A = (source[1]-i[1])/(source[0]-i[0])\n",
    "                C = source[1] - A* source[0]\n",
    "                B = 1\n",
    "                dist = abs(C)/((A**2+B**2)**0.5)\n",
    "                \n",
    "                deg = math.degrees(math.atan(A))\n",
    "                if deg<0:\n",
    "                    deg = deg+180\n",
    "                #dist = C*math.sin(math.radians(deg)) +r\n",
    "                if C>0:\n",
    "                    pass\n",
    "                else:\n",
    "                    dist = -1*dist\n",
    "\n",
    "                #deg = 180 - deg\n",
    "                #print (dist, deg)\n",
    "                #print(dist, round(dist+r), deg, round(deg),suma)\n",
    "                if deg < 90:\n",
    "                    dist = -1*dist\n",
    "                output[round(-dist +r), round(deg)] += suma\n",
    "                b+=1\n",
    "                gamma += l/n\n",
    "                \n",
    "            a+=da\n",
    "        arr = output     \n",
    "        #print (arr[51, 79], np.max(arr))\n",
    "        arr = arr / np.max(arr)\n",
    "        arr = np.rint(arr *255)\n",
    "        return arr\n",
    "            \n",
    "\n",
    "    "
   ]
  },
  {
   "cell_type": "code",
   "execution_count": 70,
   "metadata": {},
   "outputs": [],
   "source": [
    "def anim_radon(img, da, nn, l):\n",
    "        \n",
    "        dx, dy = 0.5 * 180.0 / max(img.shape), 0.5 / img.shape[0]\n",
    "        rhomax = math.ceil((img.shape[0]**2 + img.shape[1]**2)**0.5)\n",
    "        m = round(img.shape[0]/2)\n",
    "        n = round(img.shape[1]/2)\n",
    "        r = round( rhomax/2)\n",
    "        a = da\n",
    "        output = np.zeros((rhomax+1, 181))\n",
    "\n",
    "        while a < 360:\n",
    "            source = [round(r*math.cos(math.radians(a))), round(r*math.sin(math.radians(a)))]\n",
    "            dedectors = []\n",
    "            for i in range(0, n):\n",
    "                dedectors.append([round(r*math.cos(math.radians(a+(180)-(l/2)+ i* (l/(nn-1))))), \n",
    "                                            round(r*math.sin(math.radians(a+(180)-(l/2)+ i* (l/(nn-1)))))])\n",
    "            b = 0\n",
    "            gamma = -l/2\n",
    "            for i in dedectors:\n",
    "                li = bresenham(source[0], source[1], i[0], i[1])\n",
    "                suma = 0\n",
    "                for i in li:\n",
    "                    \n",
    "                    if i[0]+n < img.shape[0] and i[1] +m<  img.shape[1] and i[0]+n >= 0 and i[1] +m >= 0 :\n",
    "                        suma += img[i[0]+n][i[1]+m]\n",
    "                if source[0]-i[0] == 0:\n",
    "                    continue\n",
    "                A = (source[1]-i[1])/(source[0]-i[0])\n",
    "                C = source[1] - A* source[0]\n",
    "                B = 1\n",
    "                dist = abs(C)/((A**2+B**2)**0.5)\n",
    "                \n",
    "                deg = math.degrees(math.atan(A))\n",
    "                if deg<0:\n",
    "                    deg = deg+180\n",
    "                #dist = C*math.sin(math.radians(deg)) +r\n",
    "                if C>0:\n",
    "                    pass\n",
    "                else:\n",
    "                    dist = -1*dist\n",
    "\n",
    "                #deg = 180 - deg\n",
    "                #print (dist, deg)\n",
    "                #print(dist, round(dist+r), deg, round(deg),suma)\n",
    "                if deg < 90:\n",
    "                    dist = -1*dist\n",
    "                output[round((-dist+r)), round(deg)] += suma\n",
    "                b+=1\n",
    "                gamma += l/n\n",
    "                \n",
    "            a+=da\n",
    "            clear_output(wait=True)\n",
    "            \n",
    "            plt.imshow(output, cmap=plt.cm.Greys_r,\n",
    "           aspect='auto')\n",
    "            plt.show()\n",
    "        arr = output     \n",
    "        #print (arr[51, 79], np.max(arr))\n",
    "        arr = arr / np.max(arr)\n",
    "        arr = np.rint(arr *255)\n",
    "        return arr\n",
    "            \n",
    "\n",
    "    "
   ]
  },
  {
   "cell_type": "code",
   "execution_count": 71,
   "metadata": {},
   "outputs": [
    {
     "data": {
      "image/png": "[encoded data removed]",
      "text/plain": [
       "<Figure size 432x288 with 1 Axes>"
      ]
     },
     "metadata": {
      "needs_background": "light"
     },
     "output_type": "display_data"
    }
   ],
   "source": [
    "im = anim_radon(data,1,200,90)"
   ]
  },
  {
   "cell_type": "code",
   "execution_count": null,
   "metadata": {},
   "outputs": [],
   "source": [
    "(Image.fromarray(im)).show()"
   ]
  },
  {
   "cell_type": "code",
   "execution_count": 57,
   "metadata": {},
   "outputs": [
    {
     "name": "stdout",
     "output_type": "stream",
     "text": [
      "[[0 0 0 ... 0 0 0]\n",
      " [0 0 0 ... 0 0 0]\n",
      " [0 0 0 ... 0 0 0]\n",
      " ...\n",
      " [0 0 0 ... 0 0 0]\n",
      " [0 0 0 ... 0 0 0]\n",
      " [0 0 0 ... 0 0 0]]\n"
     ]
    },
    {
     "ename": "KeyboardInterrupt",
     "evalue": "",
     "output_type": "error",
     "traceback": [
      "\u001b[0;31m---------------------------------------------------------------------------\u001b[0m",
      "\u001b[0;31mKeyboardInterrupt\u001b[0m                         Traceback (most recent call last)",
      "\u001b[0;32m<ipython-input-57-582cc087aa9c>\u001b[0m in \u001b[0;36m<module>\u001b[0;34m\u001b[0m\n\u001b[1;32m      1\u001b[0m \u001b[0;31m#im = np.rot90(im)\u001b[0m\u001b[0;34m\u001b[0m\u001b[0;34m\u001b[0m\u001b[0;34m\u001b[0m\u001b[0m\n\u001b[1;32m      2\u001b[0m \u001b[0;34m\u001b[0m\u001b[0m\n\u001b[0;32m----> 3\u001b[0;31m \u001b[0mim\u001b[0m \u001b[0;34m=\u001b[0m \u001b[0mnew_radon\u001b[0m\u001b[0;34m(\u001b[0m\u001b[0mdata\u001b[0m\u001b[0;34m,\u001b[0m \u001b[0;36m1\u001b[0m\u001b[0;34m,\u001b[0m \u001b[0;36m180\u001b[0m\u001b[0;34m,\u001b[0m \u001b[0;36m180\u001b[0m\u001b[0;34m)\u001b[0m\u001b[0;34m\u001b[0m\u001b[0;34m\u001b[0m\u001b[0m\n\u001b[0m\u001b[1;32m      4\u001b[0m \u001b[0mprint\u001b[0m \u001b[0;34m(\u001b[0m\u001b[0mim\u001b[0m\u001b[0;34m[\u001b[0m\u001b[0;36m51\u001b[0m\u001b[0;34m,\u001b[0m \u001b[0;36m79\u001b[0m\u001b[0;34m]\u001b[0m\u001b[0;34m,\u001b[0m \u001b[0mnp\u001b[0m\u001b[0;34m.\u001b[0m\u001b[0mmax\u001b[0m\u001b[0;34m(\u001b[0m\u001b[0mim\u001b[0m\u001b[0;34m)\u001b[0m\u001b[0;34m)\u001b[0m\u001b[0;34m\u001b[0m\u001b[0;34m\u001b[0m\u001b[0m\n\u001b[1;32m      5\u001b[0m \u001b[0mprint\u001b[0m\u001b[0;34m(\u001b[0m\u001b[0mim\u001b[0m\u001b[0;34m)\u001b[0m\u001b[0;34m\u001b[0m\u001b[0;34m\u001b[0m\u001b[0m\n",
      "\u001b[0;32m<ipython-input-55-56af4b113dca>\u001b[0m in \u001b[0;36mnew_radon\u001b[0;34m(img, da, nn, l)\u001b[0m\n\u001b[1;32m     18\u001b[0m             \u001b[0mgamma\u001b[0m \u001b[0;34m=\u001b[0m \u001b[0;34m-\u001b[0m\u001b[0ml\u001b[0m\u001b[0;34m/\u001b[0m\u001b[0;36m2\u001b[0m\u001b[0;34m\u001b[0m\u001b[0;34m\u001b[0m\u001b[0m\n\u001b[1;32m     19\u001b[0m             \u001b[0;32mfor\u001b[0m \u001b[0mi\u001b[0m \u001b[0;32min\u001b[0m \u001b[0mdedectors\u001b[0m\u001b[0;34m:\u001b[0m\u001b[0;34m\u001b[0m\u001b[0;34m\u001b[0m\u001b[0m\n\u001b[0;32m---> 20\u001b[0;31m                 \u001b[0mli\u001b[0m \u001b[0;34m=\u001b[0m \u001b[0mbresenham\u001b[0m\u001b[0;34m(\u001b[0m\u001b[0msource\u001b[0m\u001b[0;34m[\u001b[0m\u001b[0;36m0\u001b[0m\u001b[0;34m]\u001b[0m\u001b[0;34m,\u001b[0m \u001b[0msource\u001b[0m\u001b[0;34m[\u001b[0m\u001b[0;36m1\u001b[0m\u001b[0;34m]\u001b[0m\u001b[0;34m,\u001b[0m \u001b[0mi\u001b[0m\u001b[0;34m[\u001b[0m\u001b[0;36m0\u001b[0m\u001b[0;34m]\u001b[0m\u001b[0;34m,\u001b[0m \u001b[0mi\u001b[0m\u001b[0;34m[\u001b[0m\u001b[0;36m1\u001b[0m\u001b[0;34m]\u001b[0m\u001b[0;34m)\u001b[0m\u001b[0;34m\u001b[0m\u001b[0;34m\u001b[0m\u001b[0m\n\u001b[0m\u001b[1;32m     21\u001b[0m                 \u001b[0msuma\u001b[0m \u001b[0;34m=\u001b[0m \u001b[0;36m0\u001b[0m\u001b[0;34m\u001b[0m\u001b[0;34m\u001b[0m\u001b[0m\n\u001b[1;32m     22\u001b[0m                 \u001b[0;32mfor\u001b[0m \u001b[0mi\u001b[0m \u001b[0;32min\u001b[0m \u001b[0mli\u001b[0m\u001b[0;34m:\u001b[0m\u001b[0;34m\u001b[0m\u001b[0;34m\u001b[0m\u001b[0m\n",
      "\u001b[0;32m<ipython-input-51-68bd48e0f71c>\u001b[0m in \u001b[0;36mbresenham\u001b[0;34m(x1, y1, x2, y2)\u001b[0m\n\u001b[1;32m     44\u001b[0m         \u001b[0mcoord\u001b[0m \u001b[0;34m=\u001b[0m \u001b[0;34m(\u001b[0m\u001b[0my\u001b[0m\u001b[0;34m,\u001b[0m \u001b[0mx\u001b[0m\u001b[0;34m)\u001b[0m \u001b[0;32mif\u001b[0m \u001b[0mis_steep\u001b[0m \u001b[0;32melse\u001b[0m \u001b[0;34m(\u001b[0m\u001b[0mx\u001b[0m\u001b[0;34m,\u001b[0m \u001b[0my\u001b[0m\u001b[0;34m)\u001b[0m\u001b[0;34m\u001b[0m\u001b[0;34m\u001b[0m\u001b[0m\n\u001b[1;32m     45\u001b[0m         \u001b[0mpoints\u001b[0m\u001b[0;34m.\u001b[0m\u001b[0mappend\u001b[0m\u001b[0;34m(\u001b[0m\u001b[0mcoord\u001b[0m\u001b[0;34m)\u001b[0m\u001b[0;34m\u001b[0m\u001b[0;34m\u001b[0m\u001b[0m\n\u001b[0;32m---> 46\u001b[0;31m         \u001b[0merror\u001b[0m \u001b[0;34m-=\u001b[0m \u001b[0mabs\u001b[0m\u001b[0;34m(\u001b[0m\u001b[0mdy\u001b[0m\u001b[0;34m)\u001b[0m\u001b[0;34m\u001b[0m\u001b[0;34m\u001b[0m\u001b[0m\n\u001b[0m\u001b[1;32m     47\u001b[0m         \u001b[0;32mif\u001b[0m \u001b[0merror\u001b[0m \u001b[0;34m<\u001b[0m \u001b[0;36m0\u001b[0m\u001b[0;34m:\u001b[0m\u001b[0;34m\u001b[0m\u001b[0;34m\u001b[0m\u001b[0m\n\u001b[1;32m     48\u001b[0m             \u001b[0my\u001b[0m \u001b[0;34m+=\u001b[0m \u001b[0mystep\u001b[0m\u001b[0;34m\u001b[0m\u001b[0;34m\u001b[0m\u001b[0m\n",
      "\u001b[0;31mKeyboardInterrupt\u001b[0m: "
     ]
    }
   ],
   "source": [
    "#im = np.rot90(im)\n",
    "\n",
    "im = new_radon(data, 1, 180, 180)\n",
    "print (im[51, 79], np.max(im))\n",
    "print(im)\n",
    "(Image.fromarray(im)).show()\n",
    "dx, dy = 0.5 * 180.0 / max(data.shape), 0.5 / im.shape[0]\n",
    "clear_output(wait=True)\n",
    "\n",
    "plt.imshow(im, cmap=plt.cm.Greys_r,\n",
    "           extent=(-dx, 180.0 + dx, -dy, im.shape[0] + dy),\n",
    "           aspect='auto')\n",
    "plt.show()"
   ]
  },
  {
   "cell_type": "code",
   "execution_count": 31,
   "metadata": {},
   "outputs": [
    {
     "name": "stderr",
     "output_type": "stream",
     "text": [
      "/home/arabica/.local/lib/python3.6/site-packages/ipykernel_launcher.py:2: UserWarning: Image dtype is not float. By default radon will assume you want to preserve the range of your image (preserve_range=True). In scikit-image 0.18 this behavior will change to preserve_range=False. To avoid this warning, explicitly specify the preserve_range parameter.\n",
      "  \n"
     ]
    },
    {
     "name": "stdout",
     "output_type": "stream",
     "text": [
      "(400, 180)\n"
     ]
    },
    {
     "data": {
      "image/png": "[encoded data removed]",
      "text/plain": [
       "<Figure size 432x288 with 1 Axes>"
      ]
     },
     "metadata": {
      "needs_background": "light"
     },
     "output_type": "display_data"
    }
   ],
   "source": [
    "theta = np.linspace(0., 180., max(data.shape), endpoint=False)\n",
    "sinogram = radon(data)\n",
    "print (sinogram.shape)\n",
    "dx, dy = 0.5 * 180.0 / max(data.shape), 0.5 / sinogram.shape[0]\n",
    "plt.imshow(sinogram, cmap=plt.cm.Greys_r,\n",
    "           extent=(-dx, 180.0 + dx, -dy, sinogram.shape[0] + dy),\n",
    "           aspect='auto')\n",
    "plt.show()"
   ]
  },
  {
   "cell_type": "code",
   "execution_count": 18,
   "metadata": {},
   "outputs": [],
   "source": [
    "def anim_inv_radon(img, da, nn, l):\n",
    "        \n",
    "        dx, dy = 0.5 * 180.0 / max(img.shape), 0.5 / img.shape[0]\n",
    "        rhomax = math.ceil((400**2 + 400**2)**0.5)\n",
    "        m = 200#round(img.shape[0]/2)\n",
    "        n = 200#round(img.shape[1]/2)\n",
    "        r = round( rhomax/2)\n",
    "        a = da\n",
    "        output = np.zeros((400, 400))\n",
    "\n",
    "        while a < 360:\n",
    "            source = [round(r*math.cos(math.radians(a))), round(r*math.sin(math.radians(a)))]\n",
    "            dedectors = []\n",
    "            for i in range(0, n):\n",
    "                dedectors.append([round(r*math.cos(math.radians(a+(180)-(l/2)+ i* (l/(nn-1))))), \n",
    "                                            round(r*math.sin(math.radians(a+(180)-(l/2)+ i* (l/(nn-1)))))])\n",
    "            b = 0\n",
    "            gamma = -l/2\n",
    "            for i in dedectors:\n",
    "                li = bresenham(source[0], source[1], i[0], i[1])\n",
    "                suma = 0\n",
    "\n",
    "                if source[0]-i[0] == 0:\n",
    "                    continue\n",
    "                A = (source[1]-i[1])/(source[0]-i[0])\n",
    "                C = source[1] - A* source[0]\n",
    "                B = 1\n",
    "                dist = abs(C)/((A**2+B**2)**0.5)\n",
    "                \n",
    "                deg = math.degrees(math.atan(A))\n",
    "                if deg<0:\n",
    "                    deg = deg+180\n",
    "                #dist = C*math.sin(math.radians(deg)) +r\n",
    "                if C>0:\n",
    "                    pass\n",
    "                else:\n",
    "                    dist = -1*dist\n",
    "\n",
    "                #deg = 180 - deg\n",
    "                #print (dist, deg)\n",
    "                #print(dist, round(dist+r), deg, round(deg),suma)\n",
    "                if deg < 90:\n",
    "                    dist = -1*dist\n",
    "                for i in li:\n",
    "                    if i[0]+200 < 400 and i[1] +200< 400 and i[0]+200 >= 0 and i[1] +200 >= 0 :\n",
    "                        output[i[0]+200][i[1]+200] += img[round((-dist+r)), round(deg)]\n",
    "                b+=1\n",
    "                gamma += l/n\n",
    "                \n",
    "            a+=da\n",
    "            clear_output(wait=True)\n",
    "            \n",
    "            plt.imshow(output, cmap=plt.cm.Greys_r,\n",
    "           aspect='auto')\n",
    "            plt.show()\n",
    "        arr = output     \n",
    "        #print (arr[51, 79], np.max(arr))\n",
    "        arr = arr / np.max(arr)\n",
    "        arr = np.rint(arr *255)\n",
    "        return arr\n",
    "            \n",
    "\n",
    "       "
   ]
  },
  {
   "cell_type": "code",
   "execution_count": 19,
   "metadata": {},
   "outputs": [
    {
     "ename": "IndexError",
     "evalue": "index 180 is out of bounds for axis 1 with size 180",
     "output_type": "error",
     "traceback": [
      "\u001b[0;31m---------------------------------------------------------------------------\u001b[0m",
      "\u001b[0;31mIndexError\u001b[0m                                Traceback (most recent call last)",
      "\u001b[0;32m<ipython-input-19-cbfd25df6e02>\u001b[0m in \u001b[0;36m<module>\u001b[0;34m\u001b[0m\n\u001b[0;32m----> 1\u001b[0;31m \u001b[0minv\u001b[0m \u001b[0;34m=\u001b[0m \u001b[0manim_inv_radon\u001b[0m\u001b[0;34m(\u001b[0m\u001b[0msinogram\u001b[0m\u001b[0;34m,\u001b[0m \u001b[0;36m1\u001b[0m\u001b[0;34m,\u001b[0m \u001b[0;36m180\u001b[0m\u001b[0;34m,\u001b[0m \u001b[0;36m180\u001b[0m\u001b[0;34m)\u001b[0m\u001b[0;34m\u001b[0m\u001b[0;34m\u001b[0m\u001b[0m\n\u001b[0m",
      "\u001b[0;32m<ipython-input-18-dd98f6219644>\u001b[0m in \u001b[0;36manim_inv_radon\u001b[0;34m(img, da, nn, l)\u001b[0m\n\u001b[1;32m     44\u001b[0m                 \u001b[0;32mfor\u001b[0m \u001b[0mi\u001b[0m \u001b[0;32min\u001b[0m \u001b[0mli\u001b[0m\u001b[0;34m:\u001b[0m\u001b[0;34m\u001b[0m\u001b[0;34m\u001b[0m\u001b[0m\n\u001b[1;32m     45\u001b[0m                     \u001b[0;32mif\u001b[0m \u001b[0mi\u001b[0m\u001b[0;34m[\u001b[0m\u001b[0;36m0\u001b[0m\u001b[0;34m]\u001b[0m\u001b[0;34m+\u001b[0m\u001b[0;36m200\u001b[0m \u001b[0;34m<\u001b[0m \u001b[0;36m400\u001b[0m \u001b[0;32mand\u001b[0m \u001b[0mi\u001b[0m\u001b[0;34m[\u001b[0m\u001b[0;36m1\u001b[0m\u001b[0;34m]\u001b[0m \u001b[0;34m+\u001b[0m\u001b[0;36m200\u001b[0m\u001b[0;34m<\u001b[0m \u001b[0;36m400\u001b[0m \u001b[0;32mand\u001b[0m \u001b[0mi\u001b[0m\u001b[0;34m[\u001b[0m\u001b[0;36m0\u001b[0m\u001b[0;34m]\u001b[0m\u001b[0;34m+\u001b[0m\u001b[0;36m200\u001b[0m \u001b[0;34m>=\u001b[0m \u001b[0;36m0\u001b[0m \u001b[0;32mand\u001b[0m \u001b[0mi\u001b[0m\u001b[0;34m[\u001b[0m\u001b[0;36m1\u001b[0m\u001b[0;34m]\u001b[0m \u001b[0;34m+\u001b[0m\u001b[0;36m200\u001b[0m \u001b[0;34m>=\u001b[0m \u001b[0;36m0\u001b[0m \u001b[0;34m:\u001b[0m\u001b[0;34m\u001b[0m\u001b[0;34m\u001b[0m\u001b[0m\n\u001b[0;32m---> 46\u001b[0;31m                         \u001b[0moutput\u001b[0m\u001b[0;34m[\u001b[0m\u001b[0mi\u001b[0m\u001b[0;34m[\u001b[0m\u001b[0;36m0\u001b[0m\u001b[0;34m]\u001b[0m\u001b[0;34m+\u001b[0m\u001b[0;36m200\u001b[0m\u001b[0;34m]\u001b[0m\u001b[0;34m[\u001b[0m\u001b[0mi\u001b[0m\u001b[0;34m[\u001b[0m\u001b[0;36m1\u001b[0m\u001b[0;34m]\u001b[0m\u001b[0;34m+\u001b[0m\u001b[0;36m200\u001b[0m\u001b[0;34m]\u001b[0m \u001b[0;34m+=\u001b[0m \u001b[0mimg\u001b[0m\u001b[0;34m[\u001b[0m\u001b[0mround\u001b[0m\u001b[0;34m(\u001b[0m\u001b[0;34m(\u001b[0m\u001b[0;34m-\u001b[0m\u001b[0mdist\u001b[0m\u001b[0;34m+\u001b[0m\u001b[0mr\u001b[0m\u001b[0;34m)\u001b[0m\u001b[0;34m)\u001b[0m\u001b[0;34m,\u001b[0m \u001b[0mround\u001b[0m\u001b[0;34m(\u001b[0m\u001b[0mdeg\u001b[0m\u001b[0;34m)\u001b[0m\u001b[0;34m]\u001b[0m\u001b[0;34m\u001b[0m\u001b[0;34m\u001b[0m\u001b[0m\n\u001b[0m\u001b[1;32m     47\u001b[0m                 \u001b[0mb\u001b[0m\u001b[0;34m+=\u001b[0m\u001b[0;36m1\u001b[0m\u001b[0;34m\u001b[0m\u001b[0;34m\u001b[0m\u001b[0m\n\u001b[1;32m     48\u001b[0m                 \u001b[0mgamma\u001b[0m \u001b[0;34m+=\u001b[0m \u001b[0ml\u001b[0m\u001b[0;34m/\u001b[0m\u001b[0mn\u001b[0m\u001b[0;34m\u001b[0m\u001b[0;34m\u001b[0m\u001b[0m\n",
      "\u001b[0;31mIndexError\u001b[0m: index 180 is out of bounds for axis 1 with size 180"
     ]
    }
   ],
   "source": [
    "inv = anim_inv_radon(sinogram, 1, 180, 180)"
   ]
  },
  {
   "cell_type": "code",
   "execution_count": 91,
   "metadata": {},
   "outputs": [],
   "source": [
    "\n",
    "def back_project(operator):\n",
    "    laminogram = np.zeros((operator.shape[1],operator.shape[1]))\n",
    "    dTheta = 180.0 / operator.shape[0]\n",
    "    for i in range(operator.shape[0]):\n",
    "        temp = np.tile(operator[i],(operator.shape[1],1))\n",
    "        temp = rotate(temp, dTheta*i)\n",
    "        laminogram += temp\n",
    "    return laminogram"
   ]
  },
  {
   "cell_type": "code",
   "execution_count": 92,
   "metadata": {},
   "outputs": [
    {
     "data": {
      "text/plain": [
       "(400, 400)"
      ]
     },
     "execution_count": 92,
     "metadata": {},
     "output_type": "execute_result"
    }
   ],
   "source": [
    "sinogram = np.rot90(sinogram)\n",
    "inv = back_project(sinogram)\n",
    "inv.shape"
   ]
  },
  {
   "cell_type": "code",
   "execution_count": 93,
   "metadata": {},
   "outputs": [],
   "source": [
    "(Image.fromarray(inv)).show()\n"
   ]
  },
  {
   "cell_type": "code",
   "execution_count": 62,
   "metadata": {},
   "outputs": [
    {
     "ename": "NameError",
     "evalue": "name 'imutils' is not defined",
     "output_type": "error",
     "traceback": [
      "\u001b[0;31m---------------------------------------------------------------------------\u001b[0m",
      "\u001b[0;31mNameError\u001b[0m                                 Traceback (most recent call last)",
      "\u001b[0;32m<ipython-input-62-249275d97042>\u001b[0m in \u001b[0;36m<module>\u001b[0;34m\u001b[0m\n\u001b[0;32m----> 1\u001b[0;31m \u001b[0mimutils\u001b[0m\u001b[0;34m.\u001b[0m\u001b[0mimshow\u001b[0m\u001b[0;34m(\u001b[0m\u001b[0minv\u001b[0m\u001b[0;34m)\u001b[0m\u001b[0;34m\u001b[0m\u001b[0;34m\u001b[0m\u001b[0m\n\u001b[0m",
      "\u001b[0;31mNameError\u001b[0m: name 'imutils' is not defined"
     ]
    }
   ],
   "source": [
    "imutils.imshow(inv)"
   ]
  },
  {
   "cell_type": "code",
   "execution_count": null,
   "metadata": {},
   "outputs": [],
   "source": []
  }
 ],
 "metadata": {
  "kernelspec": {
   "display_name": "Python 3",
   "language": "python",
   "name": "python3"
  },
  "language_info": {
   "codemirror_mode": {
    "name": "ipython",
    "version": 3
   },
   "file_extension": ".py",
   "mimetype": "text/x-python",
   "name": "python",
   "nbconvert_exporter": "python",
   "pygments_lexer": "ipython3",
   "version": "3.9.1"
  }
 },
 "nbformat": 4,
 "nbformat_minor": 4
}
