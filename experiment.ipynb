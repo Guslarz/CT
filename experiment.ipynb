{
 "cells": [
  {
   "cell_type": "markdown",
   "metadata": {
    "pycharm": {
     "name": "#%% md\n"
    }
   },
   "source": [
    "# Experiment"
   ]
  },
  {
   "cell_type": "markdown",
   "metadata": {
    "pycharm": {
     "name": "#%% md\n"
    }
   },
   "source": [
    "### Imports"
   ]
  },
  {
   "cell_type": "code",
   "execution_count": null,
   "metadata": {
    "scrolled": false
   },
   "outputs": [],
   "source": [
    "import transform\n",
    "import numpy as np\n",
    "from skimage.io import imread\n",
    "from IPython.display import display, Markdown, Image, HTML\n",
    "import PIL\n",
    "from io import BytesIO\n",
    "from matplotlib import pyplot as plt"
   ]
  },
  {
   "cell_type": "markdown",
   "metadata": {
    "pycharm": {
     "name": "#%% md\n"
    }
   },
   "source": [
    "### Constants"
   ]
  },
  {
   "cell_type": "code",
   "execution_count": null,
   "metadata": {
    "pycharm": {
     "name": "#%%\n"
    },
    "scrolled": false
   },
   "outputs": [],
   "source": [
    "DETECTOR_COUNT_MIN = 90\n",
    "DETECTOR_COUNT_MAX = 720\n",
    "DETECTOR_COUNT_STEP = 90\n",
    "DETECTOR_COUNT_DEFAULT = 180\n",
    "\n",
    "ITERATION_COUNT_MIN = 90\n",
    "ITERATION_COUNT_MAX = 720\n",
    "ITERATION_COUNT_STEP = 90\n",
    "ITERATION_COUNT_DEFAULT = 180\n",
    "\n",
    "DETECTOR_SPAN_MIN = 45\n",
    "DETECTOR_SPAN_MAX = 270\n",
    "DETECTOR_SPAN_STEP = 45\n",
    "DETECTOR_SPAN_DEFAULT = 180\n",
    "\n",
    "MAIN_FILE = 'imgs/Shepp_logan.jpg'\n",
    "SECONDARY_FILE = 'imgs/CT_ScoutView.jpg'\n",
    "\n",
    "MASK_SIZE = 11"
   ]
  },
  {
   "cell_type": "markdown",
   "metadata": {
    "pycharm": {
     "name": "#%% md\n"
    }
   },
   "source": [
    "### Functions"
   ]
  },
  {
   "cell_type": "code",
   "execution_count": null,
   "metadata": {
    "pycharm": {
     "name": "#%%\n"
    },
    "scrolled": false
   },
   "outputs": [],
   "source": [
    "def load_image(filename):\n",
    "    return transform.normalize_img(imread(filename, as_gray=True))\n",
    "\n",
    "def display_image(image):\n",
    "    with BytesIO() as file:\n",
    "        PIL.Image.fromarray(np.uint8(image * 255)).save(file, format='png')\n",
    "        display(Image(data=file.getvalue(), width=\"30%\"))\n",
    "\n",
    "def show_input_image(image):\n",
    "    display(Markdown(\"# Input image\"))\n",
    "    display_image(image)\n",
    "\n",
    "def display_experiment_header(detector_count, iteration_count, detector_span):\n",
    "    display(Markdown(\n",
    "        \"*** \\n\"\n",
    "        f\"**Detector count**: {detector_count}<br>\"\n",
    "        f\"**Iteration count**: {iteration_count}<br>\"\n",
    "        f\"**Detector span**: {detector_span}\"))\n",
    "    \n",
    "def display_experiment_result(normal, filtered, gaussian_filtered):\n",
    "    display(Markdown(\"##### Output: \"))\n",
    "    display_image(normal)\n",
    "    display(Markdown(\"##### Convolution: \"))\n",
    "    display_image(filtered)\n",
    "    display(Markdown(\"##### Convolution + gaussian: \"))\n",
    "    display_image(gaussian_filtered)\n",
    "    \n",
    "\n",
    "def experiment_step(image, offset, r, detector_count = None, iteration_count = None, detector_span = None):\n",
    "    # setup params\n",
    "    if detector_count is None:\n",
    "        detector_count = DETECTOR_COUNT_DEFAULT\n",
    "    if iteration_count is None:\n",
    "        iteration_count = ITERATION_COUNT_DEFAULT\n",
    "    if detector_span is None:\n",
    "        detector_span = DETECTOR_SPAN_DEFAULT\n",
    "    \n",
    "    display_experiment_header(detector_count, iteration_count, detector_span)\n",
    "    \n",
    "    emitter_step_rad = np.pi / iteration_count\n",
    "    detector_span_rad = np.deg2rad(detector_span)\n",
    "    \n",
    "    sinogram = transform.img_to_sinogram(image, emitter_step_rad, r, detector_count, detector_span_rad)\n",
    "    filtered_sinogram = transform.convolve(sinogram, MASK_SIZE)\n",
    "    \n",
    "    output_image = transform.sinogram_to_img_simple(sinogram, emitter_step_rad, r, detector_count, detector_span_rad, offset)\n",
    "    filtered_output_image = transform.sinogram_to_img_simple(filtered_sinogram, emitter_step_rad, r, detector_count, detector_span_rad, offset)\n",
    "    gaussian_output_image = transform.apply_gaussian(filtered_output_image)\n",
    "    \n",
    "    display_experiment_result(output_image, filtered_output_image, gaussian_output_image)\n",
    "    \n",
    "    # returns rmse of output, filtered output and filtered output after gaussian\n",
    "    return [*map(lambda img: transform.root_mean_square_error(input_image, img), \n",
    "                      (output_image, filtered_output_image, gaussian_output_image))]\n",
    "\n",
    "def experiment(image, offset, r, property_name, min_value, max_value, step):\n",
    "    title = \" \".join(property_name.split(\"_\")).capitalize()\n",
    "    display(Markdown(f\"### {title}\"))\n",
    "    display(Markdown(f\"##### From {min_value} to {max_value} with step {step}\"))\n",
    "    x = []\n",
    "    y = []\n",
    "    for value in range(min_value, max_value + step, step):\n",
    "        result = experiment_step(image, offset, r, **{property_name: value})\n",
    "        print(result)\n",
    "        x.append(value)\n",
    "        y.append(result)\n",
    "    y = np.array(y).T\n",
    "    plt.title(f\"Plot of RMSE value against {title.lower()}\")\n",
    "    plt.xlabel(title)\n",
    "    plt.ylabel(\"RMSE\")\n",
    "    plt.plot(x, y[0], label=\"Normal output\")\n",
    "    plt.plot(x, y[1], label=\"Convolution\")\n",
    "    plt.plot(x, y[2], label=\"Convolution + gaussian filter\")\n",
    "    plt.show()\n"
   ]
  },
  {
   "cell_type": "markdown",
   "metadata": {
    "pycharm": {
     "name": "#%% md\n"
    }
   },
   "source": [
    "### Main"
   ]
  },
  {
   "cell_type": "code",
   "execution_count": null,
   "metadata": {
    "pycharm": {
     "name": "#%%\n"
    },
    "scrolled": false
   },
   "outputs": [],
   "source": [
    "input_image = load_image(MAIN_FILE)\n",
    "show_input_image(input_image)\n",
    "\n",
    "image, offset = transform.resize_to_square(input_image)\n",
    "r = transform.calc_radius(image)\n",
    "\n",
    "# uncomment ones to run\n",
    "# experiment(image, offset, r, \"detector_count\", DETECTOR_COUNT_MIN, DETECTOR_COUNT_MAX, DETECTOR_COUNT_STEP)\n",
    "# experiment(image, offset, r, \"iteration_count\", ITERATION_COUNT_MIN, ITERATION_COUNT_MAX, ITERATION_COUNT_STEP)\n",
    "experiment(image, offset, r, \"detector_span\", DETECTOR_SPAN_MIN, DETECTOR_SPAN_MAX, DETECTOR_SPAN_STEP)\n",
    "\n",
    "display(Markdown(\"# DONE!!!\"))"
   ]
  }
 ],
 "metadata": {
  "kernelspec": {
   "display_name": "Python 3",
   "language": "python",
   "name": "python3"
  },
  "language_info": {
   "codemirror_mode": {
    "name": "ipython",
    "version": 3
   },
   "file_extension": ".py",
   "mimetype": "text/x-python",
   "name": "python",
   "nbconvert_exporter": "python",
   "pygments_lexer": "ipython3",
   "version": "3.9.1"
  }
 },
 "nbformat": 4,
 "nbformat_minor": 1
}
