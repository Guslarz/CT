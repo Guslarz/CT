{
 "cells": [
  {
   "cell_type": "markdown",
   "metadata": {
    "pycharm": {
     "name": "#%% md\n"
    }
   },
   "source": [
    "# Experiment"
   ]
  },
  {
   "cell_type": "markdown",
   "metadata": {
    "pycharm": {
     "name": "#%% md\n"
    }
   },
   "source": [
    "### Imports"
   ]
  },
  {
   "cell_type": "code",
   "execution_count": null,
   "metadata": {
    "scrolled": false
   },
   "outputs": [],
   "source": [
    "import transform\n",
    "import numpy as np\n",
    "from skimage.io import imread\n",
    "from IPython.display import display, Markdown, Image, HTML\n",
    "import PIL\n",
    "from io import BytesIO\n",
    "from matplotlib import pyplot as plt"
   ]
  },
  {
   "cell_type": "markdown",
   "metadata": {
    "pycharm": {
     "name": "#%% md\n"
    }
   },
   "source": [
    "### Constants"
   ]
  },
  {
   "cell_type": "code",
   "execution_count": null,
   "metadata": {
    "pycharm": {
     "name": "#%%\n"
    },
    "scrolled": false
   },
   "outputs": [],
   "source": [
    "DETECTOR_COUNT_MIN = 90\n",
    "DETECTOR_COUNT_MAX = 720\n",
    "DETECTOR_COUNT_STEP = 90\n",
    "DETECTOR_COUNT_DEFAULT = 180\n",
    "DETECTOR_COUNT_SECOND_EXPERIMENT = 360\n",
    "\n",
    "ITERATION_COUNT_MIN = 90\n",
    "ITERATION_COUNT_MAX = 720\n",
    "ITERATION_COUNT_STEP = 90\n",
    "ITERATION_COUNT_DEFAULT = 180\n",
    "ITERATION_COUNT_SECOND_EXPERIMENT = 360\n",
    "\n",
    "DETECTOR_SPAN_MIN = 45\n",
    "DETECTOR_SPAN_MAX = 270\n",
    "DETECTOR_SPAN_STEP = 45\n",
    "DETECTOR_SPAN_DEFAULT = 180\n",
    "DETECTOR_SPAN_SECOND_EXPERIMENT = 270\n",
    "\n",
    "MAIN_FILE = 'imgs/Shepp_logan.jpg'\n",
    "FILES = ['imgs/Shepp_logan.jpg', 'imgs/CT_ScoutView.jpg']\n",
    "\n",
    "MASK_SIZE = 11\n",
    "\n",
    "# plot config\n",
    "X_LABEL = {\n",
    "    \"detector_count\": \"Liczba detektorów\",\n",
    "    \"iteration_count\": \"Liczba iteracji\",\n",
    "    \"detector_span\": \"Rozpiętość wachlarza\"\n",
    "}\n",
    "Y_LABEL = \"RMSE\"\n",
    "TITLE = {\n",
    "    \"detector_count\": \"Wykres wartości RMSE od liczby detektorów\",\n",
    "    \"iteration_count\": \"Wykres wartości RMSE od liczby iteracji\",\n",
    "    \"detector_span\": \"Wykres wartości RMSE od rozpiętości wachlarza\"\n",
    "}"
   ]
  },
  {
   "cell_type": "markdown",
   "metadata": {
    "pycharm": {
     "name": "#%% md\n"
    }
   },
   "source": [
    "### Functions"
   ]
  },
  {
   "cell_type": "code",
   "execution_count": null,
   "metadata": {
    "pycharm": {
     "name": "#%%\n"
    },
    "scrolled": false
   },
   "outputs": [],
   "source": [
    "def load_image(filename):\n",
    "    return transform.normalize_img(imread(filename, as_gray=True))\n",
    "    \n",
    "    \n",
    "def experiment_input(filename):\n",
    "    input_image = load_image(filename)\n",
    "    show_input_image(input_image)\n",
    "    image, offset = transform.resize_to_square(input_image)\n",
    "    r = transform.calc_radius(image)\n",
    "    return input_image, image, offset, r\n",
    "\n",
    "\n",
    "def display_image(image):\n",
    "    with BytesIO() as file:\n",
    "        PIL.Image.fromarray(np.uint8(image * 255)).save(file, format='png')\n",
    "        display(Image(data=file.getvalue(), width=\"30%\"))\n",
    "        \n",
    "\n",
    "def show_input_image(image):\n",
    "    display(Markdown(\"### Input image\"))\n",
    "    display_image(image)\n",
    "    \n",
    "\n",
    "def display_experiment_header(detector_count, iteration_count, detector_span):\n",
    "    display(Markdown(\n",
    "        \"*** \\n\"\n",
    "        f\"**Detector count**: {detector_count}<br>\"\n",
    "        f\"**Iteration count**: {iteration_count}<br>\"\n",
    "        f\"**Detector span**: {detector_span}\"))\n",
    "    \n",
    "\n",
    "def main_experiment_step(input_image, image, offset, r, detector_count = None, iteration_count = None, detector_span = None):\n",
    "    # setup params\n",
    "    if detector_count is None:\n",
    "        detector_count = DETECTOR_COUNT_DEFAULT\n",
    "    if iteration_count is None:\n",
    "        iteration_count = ITERATION_COUNT_DEFAULT\n",
    "    if detector_span is None:\n",
    "        detector_span = DETECTOR_SPAN_DEFAULT\n",
    "    \n",
    "    display_experiment_header(detector_count, iteration_count, detector_span)\n",
    "    \n",
    "    emitter_step_rad = np.pi / iteration_count\n",
    "    detector_span_rad = np.deg2rad(detector_span)\n",
    "    \n",
    "    sinogram = transform.img_to_sinogram(image, emitter_step_rad, r, detector_count, detector_span_rad)\n",
    "    filtered_sinogram = transform.convolve(sinogram, MASK_SIZE)\n",
    "    \n",
    "    filtered_output_image = transform.sinogram_to_img_simple(filtered_sinogram, emitter_step_rad, r, detector_count, detector_span_rad, offset)\n",
    "    output = filtered_output_image\n",
    "    rmse = transform.root_mean_square_error(input_image, output)\n",
    "    \n",
    "    display(Markdown(\"##### Output: \"))\n",
    "    display_image(output)\n",
    "    display(Markdown(f\"**RMSE**: {rmse}\"))\n",
    "    \n",
    "    # returns rmse of output, filtered output and filtered output after gaussian\n",
    "    return rmse\n",
    "\n",
    "\n",
    "def main_experiment(input_image, image, offset, r, property_name, min_value, max_value, step):\n",
    "    title = \" \".join(property_name.split(\"_\")).capitalize()\n",
    "    display(Markdown(f\"### {title}\"))\n",
    "    display(Markdown(f\"##### From {min_value} to {max_value} with step {step}\"))\n",
    "    x = []\n",
    "    y = []\n",
    "    for value in range(min_value, max_value + step, step):\n",
    "        rmse = main_experiment_step(input_image, image, offset, r, **{property_name: value})\n",
    "        x.append(value)\n",
    "        y.append(rmse)\n",
    "    y = np.array(y).T\n",
    "    plt.title(TITLE[property_name])\n",
    "    plt.xlabel(X_LABEL[property_name])\n",
    "    plt.ylabel(Y_LABEL)\n",
    "    plt.plot(x, y)\n",
    "    plt.show()\n",
    "    \n",
    "    \n",
    "def second_experiment(filename, detector_count = None, iteration_count = None, detector_span = None):\n",
    "    input_image, image, offset, r = experiment_input(filename)\n",
    "    # setup params\n",
    "    if detector_count is None:\n",
    "        detector_count = DETECTOR_COUNT_SECOND_EXPERIMENT\n",
    "    if iteration_count is None:\n",
    "        iteration_count = ITERATION_COUNT_SECOND_EXPERIMENT\n",
    "    if detector_span is None:\n",
    "        detector_span = DETECTOR_SPAN_SECOND_EXPERIMENT\n",
    "        \n",
    "    display_experiment_header(detector_count, iteration_count, detector_span)\n",
    "    \n",
    "    emitter_step_rad = np.pi / iteration_count\n",
    "    detector_span_rad = np.deg2rad(detector_span)\n",
    "    \n",
    "    emitter_step_rad = np.pi / iteration_count\n",
    "    detector_span_rad = np.deg2rad(detector_span)\n",
    "    \n",
    "    sinogram = transform.img_to_sinogram(image, emitter_step_rad, r, detector_count, detector_span_rad)\n",
    "    filtered_sinogram = transform.convolve(sinogram, MASK_SIZE)\n",
    "    \n",
    "    output_image = transform.sinogram_to_img_simple(sinogram, emitter_step_rad, r, detector_count, detector_span_rad, offset)\n",
    "    filtered_output_image = transform.sinogram_to_img_simple(filtered_sinogram, emitter_step_rad, r, detector_count, detector_span_rad, offset)\n",
    "    gaussian_output_image = transform.apply_gaussian(filtered_output_image)\n",
    "    \n",
    "    display(Markdown(\"##### Output: \"))\n",
    "    display_image(output_image)\n",
    "    display(Markdown(f\"RMSE: {transform.root_mean_square_error(input_image, output_image)}\"))\n",
    "    display(Markdown(\"##### Convolution: \"))\n",
    "    display_image(filtered_output_image)\n",
    "    display(Markdown(f\"RMSE: {transform.root_mean_square_error(input_image, filtered_output_image)}\"))\n",
    "    display(Markdown(\"##### Convolution + gaussian: \"))\n",
    "    display_image(gaussian_output_image)\n",
    "    display(Markdown(f\"**RMSE**: {transform.root_mean_square_error(input_image, gaussian_output_image)}\"))\n",
    "    \n"
   ]
  },
  {
   "cell_type": "markdown",
   "metadata": {
    "pycharm": {
     "name": "#%% md\n"
    }
   },
   "source": [
    "### Main"
   ]
  },
  {
   "cell_type": "code",
   "execution_count": null,
   "metadata": {
    "pycharm": {
     "name": "#%%\n"
    },
    "scrolled": false
   },
   "outputs": [],
   "source": [
    "# A, B\n",
    "display(Markdown(\"# Main experiment\"))\n",
    "\n",
    "data = experiment_input(MAIN_FILE)\n",
    "main_experiment(*data, \"detector_count\", DETECTOR_COUNT_MIN, DETECTOR_COUNT_MAX, DETECTOR_COUNT_STEP)\n",
    "main_experiment(*data, \"iteration_count\", ITERATION_COUNT_MIN, ITERATION_COUNT_MAX, ITERATION_COUNT_STEP)\n",
    "main_experiment(*data, \"detector_span\", DETECTOR_SPAN_MIN, DETECTOR_SPAN_MAX, DETECTOR_SPAN_STEP)\n",
    "\n",
    "# C\n",
    "display(Markdown(\"# Second experiment\"))\n",
    "for filename in FILES:\n",
    "    result = second_experiment(filename)\n",
    "\n",
    "display(Markdown(\"# DONE!!!\"))"
   ]
  }
 ],
 "metadata": {
  "kernelspec": {
   "display_name": "Python 3",
   "language": "python",
   "name": "python3"
  },
  "language_info": {
   "codemirror_mode": {
    "name": "ipython",
    "version": 3
   },
   "file_extension": ".py",
   "mimetype": "text/x-python",
   "name": "python",
   "nbconvert_exporter": "python",
   "pygments_lexer": "ipython3",
   "version": "3.9.1"
  }
 },
 "nbformat": 4,
 "nbformat_minor": 1
}
